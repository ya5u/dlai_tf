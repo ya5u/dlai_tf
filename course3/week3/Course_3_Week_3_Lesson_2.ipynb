{
  "nbformat": 4,
  "nbformat_minor": 0,
  "metadata": {
    "accelerator": "GPU",
    "colab": {
      "name": "Course 3 - Week 3 - Lesson 2.ipynb",
      "provenance": [],
      "collapsed_sections": [],
      "toc_visible": true
    },
    "kernelspec": {
      "display_name": "Python 3",
      "language": "python",
      "name": "python3"
    },
    "language_info": {
      "codemirror_mode": {
        "name": "ipython",
        "version": 3
      },
      "file_extension": ".py",
      "mimetype": "text/x-python",
      "name": "python",
      "nbconvert_exporter": "python",
      "pygments_lexer": "ipython3",
      "version": "3.7.6"
    }
  },
  "cells": [
    {
      "cell_type": "code",
      "metadata": {
        "id": "zX4Kg8DUTKWO"
      },
      "source": [
        "#@title Licensed under the Apache License, Version 2.0 (the \"License\");\n",
        "# you may not use this file except in compliance with the License.\n",
        "# You may obtain a copy of the License at\n",
        "#\n",
        "# https://www.apache.org/licenses/LICENSE-2.0\n",
        "#\n",
        "# Unless required by applicable law or agreed to in writing, software\n",
        "# distributed under the License is distributed on an \"AS IS\" BASIS,\n",
        "# WITHOUT WARRANTIES OR CONDITIONS OF ANY KIND, either express or implied.\n",
        "# See the License for the specific language governing permissions and\n",
        "# limitations under the License."
      ],
      "execution_count": 1,
      "outputs": []
    },
    {
      "cell_type": "markdown",
      "metadata": {
        "id": "5QK9ue_ALZnw"
      },
      "source": [
        "<a href=\"https://colab.research.google.com/github/lmoroney/dlaicourse/blob/master/TensorFlow%20In%20Practice/Course%203%20-%20NLP/Course%203%20-%20Week%203%20-%20Lesson%202.ipynb\" target=\"_parent\"><img src=\"https://colab.research.google.com/assets/colab-badge.svg\" alt=\"Open In Colab\"/></a>"
      ]
    },
    {
      "cell_type": "code",
      "metadata": {
        "colab": {
          "base_uri": "https://localhost:8080/"
        },
        "id": "jGwXGIXvFhXW",
        "outputId": "75e1c650-3a1c-44a3-86e9-1bee25a1a708"
      },
      "source": [
        "import numpy as np\n",
        "\n",
        "import json\n",
        "import tensorflow as tf\n",
        "\n",
        "from tensorflow.keras.preprocessing.text import Tokenizer\n",
        "from tensorflow.keras.preprocessing.sequence import pad_sequences\n",
        "\n",
        "!wget --no-check-certificate \\\n",
        "    https://storage.googleapis.com/laurencemoroney-blog.appspot.com/sarcasm.json \\\n",
        "    -O /tmp/sarcasm.json\n",
        "\n",
        "vocab_size = 1000\n",
        "embedding_dim = 16\n",
        "max_length = 120\n",
        "trunc_type='post'\n",
        "padding_type='post'\n",
        "oov_tok = \"<OOV>\"\n",
        "training_size = 20000\n",
        "\n",
        "\n",
        "with open(\"/tmp/sarcasm.json\", 'r') as f:\n",
        "    datastore = json.load(f)\n",
        "\n",
        "\n",
        "sentences = []\n",
        "labels = []\n",
        "urls = []\n",
        "for item in datastore:\n",
        "    sentences.append(item['headline'])\n",
        "    labels.append(item['is_sarcastic'])\n",
        "\n",
        "training_sentences = sentences[0:training_size]\n",
        "testing_sentences = sentences[training_size:]\n",
        "training_labels = labels[0:training_size]\n",
        "testing_labels = labels[training_size:]\n",
        "\n",
        "tokenizer = Tokenizer(num_words=vocab_size, oov_token=oov_tok)\n",
        "tokenizer.fit_on_texts(training_sentences)\n",
        "\n",
        "word_index = tokenizer.word_index\n",
        "\n",
        "training_sequences = tokenizer.texts_to_sequences(training_sentences)\n",
        "training_padded = pad_sequences(training_sequences, maxlen=max_length, padding=padding_type, truncating=trunc_type)\n",
        "\n",
        "testing_sequences = tokenizer.texts_to_sequences(testing_sentences)\n",
        "testing_padded = pad_sequences(testing_sequences, maxlen=max_length, padding=padding_type, truncating=trunc_type)\n",
        "\n",
        "model = tf.keras.Sequential([\n",
        "    tf.keras.layers.Embedding(vocab_size, embedding_dim, input_length=max_length),\n",
        "    tf.keras.layers.Bidirectional(tf.keras.layers.LSTM(32)),\n",
        "    tf.keras.layers.Dense(24, activation='relu'),\n",
        "    tf.keras.layers.Dense(1, activation='sigmoid')\n",
        "])\n",
        "model.compile(loss='binary_crossentropy',optimizer='adam',metrics=['accuracy'])\n",
        "model.summary()\n",
        "\n",
        "num_epochs = 50\n",
        "training_padded = np.array(training_padded)\n",
        "training_labels = np.array(training_labels)\n",
        "testing_padded = np.array(testing_padded)\n",
        "testing_labels = np.array(testing_labels)\n",
        "history = model.fit(training_padded, training_labels, epochs=num_epochs, validation_data=(testing_padded, testing_labels), verbose=1)\n"
      ],
      "execution_count": 2,
      "outputs": [
        {
          "output_type": "stream",
          "text": [
            "--2021-02-15 15:03:27--  https://storage.googleapis.com/laurencemoroney-blog.appspot.com/sarcasm.json\n",
            "Resolving storage.googleapis.com (storage.googleapis.com)... 74.125.142.128, 74.125.195.128, 74.125.20.128, ...\n",
            "Connecting to storage.googleapis.com (storage.googleapis.com)|74.125.142.128|:443... connected.\n",
            "HTTP request sent, awaiting response... 200 OK\n",
            "Length: 5643545 (5.4M) [application/json]\n",
            "Saving to: ‘/tmp/sarcasm.json’\n",
            "\n",
            "/tmp/sarcasm.json   100%[===================>]   5.38M  --.-KB/s    in 0.05s   \n",
            "\n",
            "2021-02-15 15:03:27 (107 MB/s) - ‘/tmp/sarcasm.json’ saved [5643545/5643545]\n",
            "\n",
            "Model: \"sequential\"\n",
            "_________________________________________________________________\n",
            "Layer (type)                 Output Shape              Param #   \n",
            "=================================================================\n",
            "embedding (Embedding)        (None, 120, 16)           16000     \n",
            "_________________________________________________________________\n",
            "bidirectional (Bidirectional (None, 64)                12544     \n",
            "_________________________________________________________________\n",
            "dense (Dense)                (None, 24)                1560      \n",
            "_________________________________________________________________\n",
            "dense_1 (Dense)              (None, 1)                 25        \n",
            "=================================================================\n",
            "Total params: 30,129\n",
            "Trainable params: 30,129\n",
            "Non-trainable params: 0\n",
            "_________________________________________________________________\n",
            "Epoch 1/50\n",
            "625/625 [==============================] - 17s 13ms/step - loss: 0.5385 - accuracy: 0.6912 - val_loss: 0.4018 - val_accuracy: 0.8062\n",
            "Epoch 2/50\n",
            "625/625 [==============================] - 7s 12ms/step - loss: 0.3519 - accuracy: 0.8406 - val_loss: 0.3776 - val_accuracy: 0.8281\n",
            "Epoch 3/50\n",
            "625/625 [==============================] - 7s 12ms/step - loss: 0.3294 - accuracy: 0.8513 - val_loss: 0.3758 - val_accuracy: 0.8265\n",
            "Epoch 4/50\n",
            "625/625 [==============================] - 8s 12ms/step - loss: 0.3090 - accuracy: 0.8638 - val_loss: 0.3738 - val_accuracy: 0.8272\n",
            "Epoch 5/50\n",
            "625/625 [==============================] - 7s 12ms/step - loss: 0.2928 - accuracy: 0.8716 - val_loss: 0.3740 - val_accuracy: 0.8296\n",
            "Epoch 6/50\n",
            "625/625 [==============================] - 8s 12ms/step - loss: 0.2938 - accuracy: 0.8707 - val_loss: 0.3852 - val_accuracy: 0.8283\n",
            "Epoch 7/50\n",
            "625/625 [==============================] - 8s 12ms/step - loss: 0.2756 - accuracy: 0.8801 - val_loss: 0.3765 - val_accuracy: 0.8351\n",
            "Epoch 8/50\n",
            "625/625 [==============================] - 8s 12ms/step - loss: 0.2743 - accuracy: 0.8810 - val_loss: 0.3882 - val_accuracy: 0.8305\n",
            "Epoch 9/50\n",
            "625/625 [==============================] - 8s 12ms/step - loss: 0.2571 - accuracy: 0.8920 - val_loss: 0.3935 - val_accuracy: 0.8264\n",
            "Epoch 10/50\n",
            "625/625 [==============================] - 7s 12ms/step - loss: 0.2569 - accuracy: 0.8899 - val_loss: 0.4023 - val_accuracy: 0.8278\n",
            "Epoch 11/50\n",
            "625/625 [==============================] - 7s 11ms/step - loss: 0.2510 - accuracy: 0.8911 - val_loss: 0.4160 - val_accuracy: 0.8252\n",
            "Epoch 12/50\n",
            "625/625 [==============================] - 8s 12ms/step - loss: 0.2387 - accuracy: 0.8975 - val_loss: 0.4035 - val_accuracy: 0.8259\n",
            "Epoch 13/50\n",
            "625/625 [==============================] - 7s 12ms/step - loss: 0.2361 - accuracy: 0.9003 - val_loss: 0.4219 - val_accuracy: 0.8271\n",
            "Epoch 14/50\n",
            "625/625 [==============================] - 7s 12ms/step - loss: 0.2306 - accuracy: 0.9016 - val_loss: 0.4373 - val_accuracy: 0.8250\n",
            "Epoch 15/50\n",
            "625/625 [==============================] - 8s 12ms/step - loss: 0.2244 - accuracy: 0.9028 - val_loss: 0.4377 - val_accuracy: 0.8252\n",
            "Epoch 16/50\n",
            "625/625 [==============================] - 8s 12ms/step - loss: 0.2133 - accuracy: 0.9105 - val_loss: 0.4635 - val_accuracy: 0.8253\n",
            "Epoch 17/50\n",
            "625/625 [==============================] - 7s 11ms/step - loss: 0.2104 - accuracy: 0.9112 - val_loss: 0.4789 - val_accuracy: 0.8211\n",
            "Epoch 18/50\n",
            "625/625 [==============================] - 7s 11ms/step - loss: 0.2057 - accuracy: 0.9135 - val_loss: 0.4846 - val_accuracy: 0.8220\n",
            "Epoch 19/50\n",
            "625/625 [==============================] - 7s 11ms/step - loss: 0.1986 - accuracy: 0.9185 - val_loss: 0.4929 - val_accuracy: 0.8162\n",
            "Epoch 20/50\n",
            "625/625 [==============================] - 7s 12ms/step - loss: 0.1924 - accuracy: 0.9221 - val_loss: 0.5284 - val_accuracy: 0.8201\n",
            "Epoch 21/50\n",
            "625/625 [==============================] - 8s 12ms/step - loss: 0.1823 - accuracy: 0.9251 - val_loss: 0.5478 - val_accuracy: 0.8123\n",
            "Epoch 22/50\n",
            "625/625 [==============================] - 7s 12ms/step - loss: 0.1701 - accuracy: 0.9297 - val_loss: 0.5654 - val_accuracy: 0.8132\n",
            "Epoch 23/50\n",
            "625/625 [==============================] - 8s 12ms/step - loss: 0.1671 - accuracy: 0.9342 - val_loss: 0.5626 - val_accuracy: 0.8138\n",
            "Epoch 24/50\n",
            "625/625 [==============================] - 8s 12ms/step - loss: 0.1624 - accuracy: 0.9360 - val_loss: 0.6092 - val_accuracy: 0.8095\n",
            "Epoch 25/50\n",
            "625/625 [==============================] - 8s 13ms/step - loss: 0.1540 - accuracy: 0.9407 - val_loss: 0.6858 - val_accuracy: 0.8076\n",
            "Epoch 26/50\n",
            "625/625 [==============================] - 8s 13ms/step - loss: 0.1501 - accuracy: 0.9401 - val_loss: 0.7527 - val_accuracy: 0.8125\n",
            "Epoch 27/50\n",
            "625/625 [==============================] - 8s 12ms/step - loss: 0.1406 - accuracy: 0.9426 - val_loss: 0.7472 - val_accuracy: 0.8104\n",
            "Epoch 28/50\n",
            "625/625 [==============================] - 7s 11ms/step - loss: 0.1349 - accuracy: 0.9455 - val_loss: 0.7856 - val_accuracy: 0.8053\n",
            "Epoch 29/50\n",
            "625/625 [==============================] - 7s 12ms/step - loss: 0.1251 - accuracy: 0.9495 - val_loss: 0.8118 - val_accuracy: 0.8015\n",
            "Epoch 30/50\n",
            "625/625 [==============================] - 7s 11ms/step - loss: 0.1271 - accuracy: 0.9488 - val_loss: 0.8681 - val_accuracy: 0.8003\n",
            "Epoch 31/50\n",
            "625/625 [==============================] - 7s 12ms/step - loss: 0.1182 - accuracy: 0.9511 - val_loss: 0.9807 - val_accuracy: 0.8062\n",
            "Epoch 32/50\n",
            "625/625 [==============================] - 7s 12ms/step - loss: 0.1071 - accuracy: 0.9583 - val_loss: 0.9942 - val_accuracy: 0.8067\n",
            "Epoch 33/50\n",
            "625/625 [==============================] - 8s 12ms/step - loss: 0.1058 - accuracy: 0.9577 - val_loss: 0.9680 - val_accuracy: 0.7982\n",
            "Epoch 34/50\n",
            "625/625 [==============================] - 7s 12ms/step - loss: 0.1035 - accuracy: 0.9572 - val_loss: 1.0695 - val_accuracy: 0.8000\n",
            "Epoch 35/50\n",
            "625/625 [==============================] - 8s 12ms/step - loss: 0.0968 - accuracy: 0.9603 - val_loss: 1.1555 - val_accuracy: 0.8007\n",
            "Epoch 36/50\n",
            "625/625 [==============================] - 8s 12ms/step - loss: 0.0962 - accuracy: 0.9597 - val_loss: 1.2278 - val_accuracy: 0.7961\n",
            "Epoch 37/50\n",
            "625/625 [==============================] - 8s 12ms/step - loss: 0.0839 - accuracy: 0.9657 - val_loss: 1.1231 - val_accuracy: 0.8000\n",
            "Epoch 38/50\n",
            "625/625 [==============================] - 8s 12ms/step - loss: 0.0852 - accuracy: 0.9636 - val_loss: 1.3088 - val_accuracy: 0.8018\n",
            "Epoch 39/50\n",
            "625/625 [==============================] - 8s 12ms/step - loss: 0.0870 - accuracy: 0.9644 - val_loss: 1.1953 - val_accuracy: 0.8001\n",
            "Epoch 40/50\n",
            "625/625 [==============================] - 7s 12ms/step - loss: 0.0872 - accuracy: 0.9652 - val_loss: 1.3564 - val_accuracy: 0.7959\n",
            "Epoch 41/50\n",
            "625/625 [==============================] - 7s 12ms/step - loss: 0.0759 - accuracy: 0.9666 - val_loss: 1.3436 - val_accuracy: 0.8000\n",
            "Epoch 42/50\n",
            "625/625 [==============================] - 8s 12ms/step - loss: 0.0773 - accuracy: 0.9666 - val_loss: 1.4370 - val_accuracy: 0.7961\n",
            "Epoch 43/50\n",
            "625/625 [==============================] - 7s 11ms/step - loss: 0.0754 - accuracy: 0.9659 - val_loss: 1.5971 - val_accuracy: 0.7886\n",
            "Epoch 44/50\n",
            "625/625 [==============================] - 8s 13ms/step - loss: 0.0729 - accuracy: 0.9691 - val_loss: 1.4824 - val_accuracy: 0.7953\n",
            "Epoch 45/50\n",
            "625/625 [==============================] - 7s 12ms/step - loss: 0.0638 - accuracy: 0.9729 - val_loss: 1.6210 - val_accuracy: 0.7985\n",
            "Epoch 46/50\n",
            "625/625 [==============================] - 8s 13ms/step - loss: 0.0655 - accuracy: 0.9717 - val_loss: 1.6939 - val_accuracy: 0.7934\n",
            "Epoch 47/50\n",
            "625/625 [==============================] - 8s 12ms/step - loss: 0.0711 - accuracy: 0.9683 - val_loss: 1.6417 - val_accuracy: 0.7967\n",
            "Epoch 48/50\n",
            "625/625 [==============================] - 7s 12ms/step - loss: 0.0647 - accuracy: 0.9715 - val_loss: 1.6892 - val_accuracy: 0.7958\n",
            "Epoch 49/50\n",
            "625/625 [==============================] - 8s 12ms/step - loss: 0.0564 - accuracy: 0.9757 - val_loss: 1.8048 - val_accuracy: 0.8018\n",
            "Epoch 50/50\n",
            "625/625 [==============================] - 7s 12ms/step - loss: 0.0570 - accuracy: 0.9751 - val_loss: 1.8285 - val_accuracy: 0.7921\n"
          ],
          "name": "stdout"
        }
      ]
    },
    {
      "cell_type": "code",
      "metadata": {
        "colab": {
          "base_uri": "https://localhost:8080/",
          "height": 541
        },
        "id": "g9DC6dmLF8DC",
        "outputId": "1314fc8c-2237-4a42-e269-af663d6ba7c4"
      },
      "source": [
        "import matplotlib.pyplot as plt\n",
        "\n",
        "\n",
        "def plot_graphs(history, string):\n",
        "  plt.plot(history.history[string])\n",
        "  plt.plot(history.history['val_'+string])\n",
        "  plt.xlabel(\"Epochs\")\n",
        "  plt.ylabel(string)\n",
        "  plt.legend([string, 'val_'+string])\n",
        "  plt.show()\n",
        "\n",
        "plot_graphs(history, 'accuracy')\n",
        "plot_graphs(history, 'loss')"
      ],
      "execution_count": 3,
      "outputs": [
        {
          "output_type": "display_data",
          "data": {
            "image/png": "[encoded data removed]",
            "text/plain": [
              "<Figure size 432x288 with 1 Axes>"
            ]
          },
          "metadata": {
            "tags": [],
            "needs_background": "light"
          }
        },
        {
          "output_type": "display_data",
          "data": {
            "image/png": "[encoded data removed]",
            "text/plain": [
              "<Figure size 432x288 with 1 Axes>"
            ]
          },
          "metadata": {
            "tags": [],
            "needs_background": "light"
          }
        }
      ]
    },
    {
      "cell_type": "code",
      "metadata": {
        "id": "7ZEZIUppGhdi"
      },
      "source": [
        "model.save(\"test.h5\")"
      ],
      "execution_count": 4,
      "outputs": []
    }
  ]
}