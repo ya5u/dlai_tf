{
 "cells": [
  {
   "cell_type": "markdown",
   "metadata": {
    "id": "rX8mhOLljYeM"
   },
   "source": [
    "##### Copyright 2019 The TensorFlow Authors."
   ]
  },
  {
   "cell_type": "code",
   "execution_count": 1,
   "metadata": {
    "cellView": "form",
    "id": "BZSlp3DAjdYf"
   },
   "outputs": [],
   "source": [
    "#@title Licensed under the Apache License, Version 2.0 (the \"License\");\n",
    "# you may not use this file except in compliance with the License.\n",
    "# You may obtain a copy of the License at\n",
    "#\n",
    "# https://www.apache.org/licenses/LICENSE-2.0\n",
    "#\n",
    "# Unless required by applicable law or agreed to in writing, software\n",
    "# distributed under the License is distributed on an \"AS IS\" BASIS,\n",
    "# WITHOUT WARRANTIES OR CONDITIONS OF ANY KIND, either express or implied.\n",
    "# See the License for the specific language governing permissions and\n",
    "# limitations under the License."
   ]
  },
  {
   "cell_type": "code",
   "execution_count": 2,
   "metadata": {
    "colab": {
     "base_uri": "https://localhost:8080/"
    },
    "id": "RXZT2UsyIVe_",
    "outputId": "4e17a984-aa15-4b2e-c63e-d59610e638a3"
   },
   "outputs": [
    {
     "name": "stdout",
     "output_type": "stream",
     "text": [
      "--2021-01-27 01:35:30--  https://storage.googleapis.com/laurencemoroney-blog.appspot.com/horse-or-human.zip\n",
      "Resolving storage.googleapis.com (storage.googleapis.com)... 172.217.13.80, 172.217.9.208, 172.253.115.128, ...\n",
      "Connecting to storage.googleapis.com (storage.googleapis.com)|172.217.13.80|:443... connected.\n",
      "HTTP request sent, awaiting response... 200 OK\n",
      "Length: 149574867 (143M) [application/zip]\n",
      "Saving to: ‘/tmp/horse-or-human.zip’\n",
      "\n",
      "/tmp/horse-or-human 100%[===================>] 142.65M   100MB/s    in 1.4s    \n",
      "\n",
      "2021-01-27 01:35:32 (100 MB/s) - ‘/tmp/horse-or-human.zip’ saved [149574867/149574867]\n",
      "\n",
      "--2021-01-27 01:35:32--  https://storage.googleapis.com/laurencemoroney-blog.appspot.com/validation-horse-or-human.zip\n",
      "Resolving storage.googleapis.com (storage.googleapis.com)... 172.217.164.176, 142.250.31.128, 172.217.2.112, ...\n",
      "Connecting to storage.googleapis.com (storage.googleapis.com)|172.217.164.176|:443... connected.\n",
      "HTTP request sent, awaiting response... 200 OK\n",
      "Length: 11480187 (11M) [application/zip]\n",
      "Saving to: ‘/tmp/validation-horse-or-human.zip’\n",
      "\n",
      "/tmp/validation-hor 100%[===================>]  10.95M  65.5MB/s    in 0.2s    \n",
      "\n",
      "2021-01-27 01:35:33 (65.5 MB/s) - ‘/tmp/validation-horse-or-human.zip’ saved [11480187/11480187]\n",
      "\n"
     ]
    }
   ],
   "source": [
    "!wget --no-check-certificate \\\n",
    "    https://storage.googleapis.com/laurencemoroney-blog.appspot.com/horse-or-human.zip \\\n",
    "    -O /tmp/horse-or-human.zip\n",
    "\n",
    "!wget --no-check-certificate \\\n",
    "    https://storage.googleapis.com/laurencemoroney-blog.appspot.com/validation-horse-or-human.zip \\\n",
    "    -O /tmp/validation-horse-or-human.zip\n",
    "  \n",
    "import os\n",
    "import zipfile\n",
    "\n",
    "local_zip = '/tmp/horse-or-human.zip'\n",
    "zip_ref = zipfile.ZipFile(local_zip, 'r')\n",
    "zip_ref.extractall('/tmp/horse-or-human')\n",
    "local_zip = '/tmp/validation-horse-or-human.zip'\n",
    "zip_ref = zipfile.ZipFile(local_zip, 'r')\n",
    "zip_ref.extractall('/tmp/validation-horse-or-human')\n",
    "zip_ref.close()\n",
    "# Directory with our training horse pictures\n",
    "train_horse_dir = os.path.join('/tmp/horse-or-human/horses')\n",
    "\n",
    "# Directory with our training human pictures\n",
    "train_human_dir = os.path.join('/tmp/horse-or-human/humans')\n",
    "\n",
    "# Directory with our training horse pictures\n",
    "validation_horse_dir = os.path.join('/tmp/validation-horse-or-human/horses')\n",
    "\n",
    "# Directory with our training human pictures\n",
    "validation_human_dir = os.path.join('/tmp/validation-horse-or-human/humans')"
   ]
  },
  {
   "cell_type": "markdown",
   "metadata": {
    "id": "5oqBkNBJmtUv"
   },
   "source": [
    "## Building a Small Model from Scratch\n",
    "\n",
    "But before we continue, let's start defining the model:\n",
    "\n",
    "Step 1 will be to import tensorflow."
   ]
  },
  {
   "cell_type": "code",
   "execution_count": 3,
   "metadata": {
    "id": "qvfZg3LQbD-5"
   },
   "outputs": [],
   "source": [
    "import tensorflow as tf"
   ]
  },
  {
   "cell_type": "markdown",
   "metadata": {
    "id": "BnhYCP4tdqjC"
   },
   "source": [
    "We then add convolutional layers as in the previous example, and flatten the final result to feed into the densely connected layers."
   ]
  },
  {
   "cell_type": "markdown",
   "metadata": {
    "id": "gokG5HKpdtzm"
   },
   "source": [
    "Finally we add the densely connected layers. \n",
    "\n",
    "Note that because we are facing a two-class classification problem, i.e. a *binary classification problem*, we will end our network with a [*sigmoid* activation](https://wikipedia.org/wiki/Sigmoid_function), so that the output of our network will be a single scalar between 0 and 1, encoding the probability that the current image is class 1 (as opposed to class 0)."
   ]
  },
  {
   "cell_type": "code",
   "execution_count": 4,
   "metadata": {
    "id": "PixZ2s5QbYQ3"
   },
   "outputs": [],
   "source": [
    "model = tf.keras.models.Sequential([\n",
    "    # Note the input shape is the desired size of the image 300x300 with 3 bytes color\n",
    "    # This is the first convolution\n",
    "    tf.keras.layers.Conv2D(16, (3,3), activation='relu', input_shape=(300, 300, 3)),\n",
    "    tf.keras.layers.MaxPooling2D(2, 2),\n",
    "    # The second convolution\n",
    "    tf.keras.layers.Conv2D(32, (3,3), activation='relu'),\n",
    "    tf.keras.layers.MaxPooling2D(2,2),\n",
    "    # The third convolution\n",
    "    tf.keras.layers.Conv2D(64, (3,3), activation='relu'),\n",
    "    tf.keras.layers.MaxPooling2D(2,2),\n",
    "    # The fourth convolution\n",
    "    tf.keras.layers.Conv2D(64, (3,3), activation='relu'),\n",
    "    tf.keras.layers.MaxPooling2D(2,2),\n",
    "    # The fifth convolution\n",
    "    tf.keras.layers.Conv2D(64, (3,3), activation='relu'),\n",
    "    tf.keras.layers.MaxPooling2D(2,2),\n",
    "    # Flatten the results to feed into a DNN\n",
    "    tf.keras.layers.Flatten(),\n",
    "    # 512 neuron hidden layer\n",
    "    tf.keras.layers.Dense(512, activation='relu'),\n",
    "    # Only 1 output neuron. It will contain a value from 0-1 where 0 for 1 class ('horses') and 1 for the other ('humans')\n",
    "    tf.keras.layers.Dense(1, activation='sigmoid')\n",
    "])"
   ]
  },
  {
   "cell_type": "code",
   "execution_count": 5,
   "metadata": {
    "id": "8DHWhFP_uhq3"
   },
   "outputs": [],
   "source": [
    "from tensorflow.keras.optimizers import RMSprop\n",
    "\n",
    "model.compile(loss='binary_crossentropy',\n",
    "              optimizer=RMSprop(lr=1e-4),\n",
    "              metrics=['accuracy'])"
   ]
  },
  {
   "cell_type": "code",
   "execution_count": 6,
   "metadata": {
    "colab": {
     "base_uri": "https://localhost:8080/"
    },
    "id": "ClebU9NJg99G",
    "outputId": "ccfa5e9d-8211-43ba-ac28-37dffc429f60"
   },
   "outputs": [
    {
     "name": "stdout",
     "output_type": "stream",
     "text": [
      "Found 1027 images belonging to 2 classes.\n",
      "Found 256 images belonging to 2 classes.\n"
     ]
    }
   ],
   "source": [
    "from tensorflow.keras.preprocessing.image import ImageDataGenerator\n",
    "\n",
    "# All images will be rescaled by 1./255\n",
    "train_datagen = ImageDataGenerator(\n",
    "      rescale=1./255,\n",
    "      rotation_range=40,\n",
    "      width_shift_range=0.2,\n",
    "      height_shift_range=0.2,\n",
    "      shear_range=0.2,\n",
    "      zoom_range=0.2,\n",
    "      horizontal_flip=True,\n",
    "      fill_mode='nearest')\n",
    "\n",
    "validation_datagen = ImageDataGenerator(rescale=1/255)\n",
    "\n",
    "# Flow training images in batches of 128 using train_datagen generator\n",
    "train_generator = train_datagen.flow_from_directory(\n",
    "        '/tmp/horse-or-human/',  # This is the source directory for training images\n",
    "        target_size=(300, 300),  # All images will be resized to 150x150\n",
    "        batch_size=128,\n",
    "        # Since we use binary_crossentropy loss, we need binary labels\n",
    "        class_mode='binary')\n",
    "\n",
    "# Flow training images in batches of 128 using train_datagen generator\n",
    "validation_generator = validation_datagen.flow_from_directory(\n",
    "        '/tmp/validation-horse-or-human/',  # This is the source directory for training images\n",
    "        target_size=(300, 300),  # All images will be resized to 150x150\n",
    "        batch_size=32,\n",
    "        # Since we use binary_crossentropy loss, we need binary labels\n",
    "        class_mode='binary')"
   ]
  },
  {
   "cell_type": "code",
   "execution_count": 7,
   "metadata": {
    "colab": {
     "base_uri": "https://localhost:8080/"
    },
    "id": "Fb1_lgobv81m",
    "outputId": "da2129c4-70b1-4666-bea8-0ea2664f67e7"
   },
   "outputs": [
    {
     "name": "stdout",
     "output_type": "stream",
     "text": [
      "Epoch 1/100\n",
      "8/8 [==============================] - 27s 2s/step - loss: 0.6953 - accuracy: 0.5278 - val_loss: 0.6726 - val_accuracy: 0.6328\n",
      "Epoch 2/100\n",
      "8/8 [==============================] - 21s 3s/step - loss: 0.6678 - accuracy: 0.6463 - val_loss: 0.6287 - val_accuracy: 0.7344\n",
      "Epoch 3/100\n",
      "8/8 [==============================] - 24s 3s/step - loss: 0.6341 - accuracy: 0.6608 - val_loss: 0.5660 - val_accuracy: 0.8789\n",
      "Epoch 4/100\n",
      "8/8 [==============================] - 21s 3s/step - loss: 0.6318 - accuracy: 0.6415 - val_loss: 0.6287 - val_accuracy: 0.5625\n",
      "Epoch 5/100\n",
      "8/8 [==============================] - 21s 3s/step - loss: 0.5792 - accuracy: 0.6996 - val_loss: 0.5819 - val_accuracy: 0.6250\n",
      "Epoch 6/100\n",
      "8/8 [==============================] - 21s 3s/step - loss: 0.5199 - accuracy: 0.7391 - val_loss: 0.5252 - val_accuracy: 0.7266\n",
      "Epoch 7/100\n",
      "8/8 [==============================] - 21s 3s/step - loss: 0.6363 - accuracy: 0.6490 - val_loss: 0.6541 - val_accuracy: 0.5781\n",
      "Epoch 8/100\n",
      "8/8 [==============================] - 21s 3s/step - loss: 0.5196 - accuracy: 0.7563 - val_loss: 0.9041 - val_accuracy: 0.5195\n",
      "Epoch 9/100\n",
      "8/8 [==============================] - 21s 3s/step - loss: 0.5100 - accuracy: 0.7445 - val_loss: 0.9204 - val_accuracy: 0.5312\n",
      "Epoch 10/100\n",
      "8/8 [==============================] - 21s 3s/step - loss: 0.5057 - accuracy: 0.7517 - val_loss: 0.6001 - val_accuracy: 0.6758\n",
      "Epoch 11/100\n",
      "8/8 [==============================] - 21s 3s/step - loss: 0.5041 - accuracy: 0.7713 - val_loss: 0.9856 - val_accuracy: 0.5195\n",
      "Epoch 12/100\n",
      "8/8 [==============================] - 21s 3s/step - loss: 0.5168 - accuracy: 0.7382 - val_loss: 0.5926 - val_accuracy: 0.6836\n",
      "Epoch 13/100\n",
      "8/8 [==============================] - 21s 3s/step - loss: 0.4774 - accuracy: 0.7670 - val_loss: 0.8360 - val_accuracy: 0.6094\n",
      "Epoch 14/100\n",
      "8/8 [==============================] - 23s 3s/step - loss: 0.4554 - accuracy: 0.8085 - val_loss: 0.8966 - val_accuracy: 0.6094\n",
      "Epoch 15/100\n",
      "8/8 [==============================] - 21s 3s/step - loss: 0.4345 - accuracy: 0.8116 - val_loss: 0.7859 - val_accuracy: 0.6562\n",
      "Epoch 16/100\n",
      "8/8 [==============================] - 21s 3s/step - loss: 0.5944 - accuracy: 0.7813 - val_loss: 1.1710 - val_accuracy: 0.5742\n",
      "Epoch 17/100\n",
      "8/8 [==============================] - 21s 3s/step - loss: 0.4790 - accuracy: 0.7866 - val_loss: 0.9776 - val_accuracy: 0.6094\n",
      "Epoch 18/100\n",
      "8/8 [==============================] - 21s 3s/step - loss: 0.4028 - accuracy: 0.8241 - val_loss: 1.1878 - val_accuracy: 0.5977\n",
      "Epoch 19/100\n",
      "8/8 [==============================] - 21s 3s/step - loss: 0.4066 - accuracy: 0.8077 - val_loss: 1.1392 - val_accuracy: 0.6094\n",
      "Epoch 20/100\n",
      "8/8 [==============================] - 21s 3s/step - loss: 0.3881 - accuracy: 0.8259 - val_loss: 1.5474 - val_accuracy: 0.5508\n",
      "Epoch 21/100\n",
      "8/8 [==============================] - 21s 3s/step - loss: 0.3778 - accuracy: 0.8449 - val_loss: 1.3375 - val_accuracy: 0.6016\n",
      "Epoch 22/100\n",
      "8/8 [==============================] - 21s 3s/step - loss: 0.3995 - accuracy: 0.8209 - val_loss: 1.6264 - val_accuracy: 0.5508\n",
      "Epoch 23/100\n",
      "8/8 [==============================] - 21s 3s/step - loss: 0.4779 - accuracy: 0.8181 - val_loss: 1.3303 - val_accuracy: 0.6094\n",
      "Epoch 24/100\n",
      "8/8 [==============================] - 21s 3s/step - loss: 0.3687 - accuracy: 0.8510 - val_loss: 1.5706 - val_accuracy: 0.5898\n",
      "Epoch 25/100\n",
      "8/8 [==============================] - 21s 3s/step - loss: 0.3869 - accuracy: 0.8241 - val_loss: 1.7450 - val_accuracy: 0.5430\n",
      "Epoch 26/100\n",
      "8/8 [==============================] - 21s 3s/step - loss: 0.3942 - accuracy: 0.8293 - val_loss: 1.6481 - val_accuracy: 0.5664\n",
      "Epoch 27/100\n",
      "8/8 [==============================] - 21s 3s/step - loss: 0.3492 - accuracy: 0.8420 - val_loss: 1.6151 - val_accuracy: 0.5977\n",
      "Epoch 28/100\n",
      "8/8 [==============================] - 21s 3s/step - loss: 0.3247 - accuracy: 0.8717 - val_loss: 1.9512 - val_accuracy: 0.5469\n",
      "Epoch 29/100\n",
      "8/8 [==============================] - 21s 3s/step - loss: 0.3325 - accuracy: 0.8692 - val_loss: 2.4637 - val_accuracy: 0.5117\n",
      "Epoch 30/100\n",
      "8/8 [==============================] - 21s 3s/step - loss: 0.4059 - accuracy: 0.8029 - val_loss: 1.4554 - val_accuracy: 0.6172\n",
      "Epoch 31/100\n",
      "8/8 [==============================] - 21s 3s/step - loss: 0.3288 - accuracy: 0.8395 - val_loss: 1.2641 - val_accuracy: 0.6367\n",
      "Epoch 32/100\n",
      "8/8 [==============================] - 21s 3s/step - loss: 0.3002 - accuracy: 0.8916 - val_loss: 1.4331 - val_accuracy: 0.6406\n",
      "Epoch 33/100\n",
      "8/8 [==============================] - 21s 3s/step - loss: 0.3590 - accuracy: 0.8095 - val_loss: 1.3899 - val_accuracy: 0.6484\n",
      "Epoch 34/100\n",
      "8/8 [==============================] - 21s 3s/step - loss: 0.3944 - accuracy: 0.8011 - val_loss: 1.0047 - val_accuracy: 0.7227\n",
      "Epoch 35/100\n",
      "8/8 [==============================] - 21s 3s/step - loss: 0.3321 - accuracy: 0.8515 - val_loss: 1.4393 - val_accuracy: 0.6445\n",
      "Epoch 36/100\n",
      "8/8 [==============================] - 21s 3s/step - loss: 0.3311 - accuracy: 0.8458 - val_loss: 1.8892 - val_accuracy: 0.5742\n",
      "Epoch 37/100\n",
      "8/8 [==============================] - 21s 3s/step - loss: 0.3257 - accuracy: 0.8638 - val_loss: 1.5897 - val_accuracy: 0.5898\n",
      "Epoch 38/100\n",
      "8/8 [==============================] - 21s 3s/step - loss: 0.2859 - accuracy: 0.8932 - val_loss: 4.2383 - val_accuracy: 0.5000\n",
      "Epoch 39/100\n",
      "8/8 [==============================] - 21s 3s/step - loss: 0.5356 - accuracy: 0.7663 - val_loss: 1.9086 - val_accuracy: 0.5859\n",
      "Epoch 40/100\n",
      "8/8 [==============================] - 21s 3s/step - loss: 0.2539 - accuracy: 0.8988 - val_loss: 0.9908 - val_accuracy: 0.7344\n",
      "Epoch 41/100\n",
      "8/8 [==============================] - 21s 3s/step - loss: 0.3353 - accuracy: 0.8639 - val_loss: 1.5831 - val_accuracy: 0.6602\n",
      "Epoch 42/100\n",
      "8/8 [==============================] - 21s 3s/step - loss: 0.3280 - accuracy: 0.8838 - val_loss: 2.6736 - val_accuracy: 0.5625\n",
      "Epoch 43/100\n",
      "8/8 [==============================] - 21s 3s/step - loss: 0.2494 - accuracy: 0.9040 - val_loss: 2.2818 - val_accuracy: 0.5781\n",
      "Epoch 44/100\n",
      "8/8 [==============================] - 21s 3s/step - loss: 0.2611 - accuracy: 0.8806 - val_loss: 1.4521 - val_accuracy: 0.6602\n",
      "Epoch 45/100\n",
      "8/8 [==============================] - 20s 3s/step - loss: 0.2278 - accuracy: 0.9016 - val_loss: 2.3132 - val_accuracy: 0.5820\n",
      "Epoch 46/100\n",
      "8/8 [==============================] - 23s 3s/step - loss: 0.2393 - accuracy: 0.9088 - val_loss: 1.1980 - val_accuracy: 0.7109\n",
      "Epoch 47/100\n",
      "8/8 [==============================] - 21s 3s/step - loss: 0.2675 - accuracy: 0.8831 - val_loss: 2.4360 - val_accuracy: 0.5742\n",
      "Epoch 48/100\n",
      "8/8 [==============================] - 23s 3s/step - loss: 0.2564 - accuracy: 0.8893 - val_loss: 2.1327 - val_accuracy: 0.5938\n",
      "Epoch 49/100\n",
      "8/8 [==============================] - 21s 3s/step - loss: 0.2092 - accuracy: 0.9183 - val_loss: 1.3125 - val_accuracy: 0.6836\n",
      "Epoch 50/100\n",
      "8/8 [==============================] - 23s 3s/step - loss: 0.2268 - accuracy: 0.9088 - val_loss: 2.3973 - val_accuracy: 0.5898\n",
      "Epoch 51/100\n",
      "8/8 [==============================] - 23s 3s/step - loss: 0.2245 - accuracy: 0.9106 - val_loss: 1.0181 - val_accuracy: 0.7305\n",
      "Epoch 52/100\n",
      "8/8 [==============================] - 21s 3s/step - loss: 0.2306 - accuracy: 0.9057 - val_loss: 1.5966 - val_accuracy: 0.6680\n",
      "Epoch 53/100\n",
      "8/8 [==============================] - 21s 3s/step - loss: 0.2334 - accuracy: 0.8918 - val_loss: 3.0582 - val_accuracy: 0.5352\n",
      "Epoch 54/100\n",
      "8/8 [==============================] - 21s 3s/step - loss: 0.2591 - accuracy: 0.8989 - val_loss: 2.5481 - val_accuracy: 0.5781\n",
      "Epoch 55/100\n",
      "8/8 [==============================] - 21s 3s/step - loss: 0.2163 - accuracy: 0.9098 - val_loss: 3.6658 - val_accuracy: 0.5195\n",
      "Epoch 56/100\n",
      "8/8 [==============================] - 21s 3s/step - loss: 0.1839 - accuracy: 0.9326 - val_loss: 2.1206 - val_accuracy: 0.6328\n",
      "Epoch 57/100\n",
      "8/8 [==============================] - 21s 3s/step - loss: 0.2321 - accuracy: 0.9014 - val_loss: 2.9047 - val_accuracy: 0.5625\n",
      "Epoch 58/100\n",
      "8/8 [==============================] - 21s 3s/step - loss: 0.2447 - accuracy: 0.9113 - val_loss: 1.7904 - val_accuracy: 0.6484\n",
      "Epoch 59/100\n",
      "8/8 [==============================] - 21s 3s/step - loss: 0.2137 - accuracy: 0.9128 - val_loss: 2.5676 - val_accuracy: 0.6016\n",
      "Epoch 60/100\n",
      "8/8 [==============================] - 21s 3s/step - loss: 0.2188 - accuracy: 0.9137 - val_loss: 2.4705 - val_accuracy: 0.6250\n",
      "Epoch 61/100\n",
      "8/8 [==============================] - 21s 3s/step - loss: 0.2869 - accuracy: 0.9046 - val_loss: 2.8276 - val_accuracy: 0.6016\n",
      "Epoch 62/100\n",
      "8/8 [==============================] - 21s 3s/step - loss: 0.1546 - accuracy: 0.9507 - val_loss: 2.0164 - val_accuracy: 0.6641\n",
      "Epoch 63/100\n",
      "8/8 [==============================] - 21s 3s/step - loss: 0.2104 - accuracy: 0.9112 - val_loss: 3.0031 - val_accuracy: 0.5820\n",
      "Epoch 64/100\n",
      "8/8 [==============================] - 23s 3s/step - loss: 0.1937 - accuracy: 0.9168 - val_loss: 2.0021 - val_accuracy: 0.6641\n",
      "Epoch 65/100\n",
      "8/8 [==============================] - 21s 3s/step - loss: 0.1838 - accuracy: 0.9344 - val_loss: 3.0348 - val_accuracy: 0.5547\n",
      "Epoch 66/100\n",
      "8/8 [==============================] - 21s 3s/step - loss: 0.1519 - accuracy: 0.9476 - val_loss: 2.4268 - val_accuracy: 0.6328\n",
      "Epoch 67/100\n",
      "8/8 [==============================] - 21s 3s/step - loss: 0.2861 - accuracy: 0.8806 - val_loss: 2.5368 - val_accuracy: 0.6211\n",
      "Epoch 68/100\n",
      "8/8 [==============================] - 21s 3s/step - loss: 0.1452 - accuracy: 0.9446 - val_loss: 2.4354 - val_accuracy: 0.6328\n",
      "Epoch 69/100\n",
      "8/8 [==============================] - 21s 3s/step - loss: 0.2688 - accuracy: 0.8931 - val_loss: 2.4069 - val_accuracy: 0.6328\n",
      "Epoch 70/100\n",
      "8/8 [==============================] - 21s 3s/step - loss: 0.1697 - accuracy: 0.9311 - val_loss: 2.1031 - val_accuracy: 0.6641\n",
      "Epoch 71/100\n",
      "8/8 [==============================] - 21s 3s/step - loss: 0.1689 - accuracy: 0.9389 - val_loss: 1.9239 - val_accuracy: 0.6680\n",
      "Epoch 72/100\n",
      "8/8 [==============================] - 21s 3s/step - loss: 0.2197 - accuracy: 0.9150 - val_loss: 2.3752 - val_accuracy: 0.6367\n",
      "Epoch 73/100\n",
      "8/8 [==============================] - 21s 3s/step - loss: 0.1353 - accuracy: 0.9592 - val_loss: 3.8677 - val_accuracy: 0.5234\n",
      "Epoch 74/100\n",
      "8/8 [==============================] - 21s 3s/step - loss: 0.2098 - accuracy: 0.9269 - val_loss: 1.4326 - val_accuracy: 0.6992\n",
      "Epoch 75/100\n",
      "8/8 [==============================] - 21s 3s/step - loss: 0.2045 - accuracy: 0.9163 - val_loss: 3.4656 - val_accuracy: 0.5469\n",
      "Epoch 76/100\n",
      "8/8 [==============================] - 21s 3s/step - loss: 0.1563 - accuracy: 0.9295 - val_loss: 1.8270 - val_accuracy: 0.6758\n",
      "Epoch 77/100\n",
      "8/8 [==============================] - 21s 3s/step - loss: 0.1808 - accuracy: 0.9111 - val_loss: 2.1586 - val_accuracy: 0.6641\n",
      "Epoch 78/100\n",
      "8/8 [==============================] - 21s 3s/step - loss: 0.1387 - accuracy: 0.9482 - val_loss: 2.8452 - val_accuracy: 0.6328\n",
      "Epoch 79/100\n",
      "8/8 [==============================] - 21s 3s/step - loss: 0.4197 - accuracy: 0.8358 - val_loss: 2.3198 - val_accuracy: 0.6680\n",
      "Epoch 80/100\n",
      "8/8 [==============================] - 21s 3s/step - loss: 0.1486 - accuracy: 0.9483 - val_loss: 1.9621 - val_accuracy: 0.6836\n",
      "Epoch 81/100\n",
      "8/8 [==============================] - 21s 3s/step - loss: 0.1561 - accuracy: 0.9271 - val_loss: 2.4953 - val_accuracy: 0.6680\n",
      "Epoch 82/100\n",
      "8/8 [==============================] - 21s 3s/step - loss: 0.1688 - accuracy: 0.9325 - val_loss: 2.1540 - val_accuracy: 0.6641\n",
      "Epoch 83/100\n",
      "8/8 [==============================] - 21s 3s/step - loss: 0.1519 - accuracy: 0.9439 - val_loss: 2.4126 - val_accuracy: 0.6641\n",
      "Epoch 84/100\n",
      "8/8 [==============================] - 23s 3s/step - loss: 0.1473 - accuracy: 0.9432 - val_loss: 2.5270 - val_accuracy: 0.6523\n",
      "Epoch 85/100\n",
      "8/8 [==============================] - 21s 3s/step - loss: 0.1534 - accuracy: 0.9408 - val_loss: 1.6897 - val_accuracy: 0.7031\n",
      "Epoch 86/100\n",
      "8/8 [==============================] - 21s 3s/step - loss: 0.1700 - accuracy: 0.9283 - val_loss: 3.1009 - val_accuracy: 0.5664\n",
      "Epoch 87/100\n",
      "8/8 [==============================] - 21s 3s/step - loss: 0.1596 - accuracy: 0.9329 - val_loss: 2.0933 - val_accuracy: 0.6680\n",
      "Epoch 88/100\n",
      "8/8 [==============================] - 21s 3s/step - loss: 0.1158 - accuracy: 0.9547 - val_loss: 1.2715 - val_accuracy: 0.7578\n",
      "Epoch 89/100\n",
      "8/8 [==============================] - 21s 3s/step - loss: 0.1983 - accuracy: 0.9050 - val_loss: 2.0413 - val_accuracy: 0.6680\n",
      "Epoch 90/100\n",
      "8/8 [==============================] - 21s 3s/step - loss: 0.1155 - accuracy: 0.9576 - val_loss: 2.5131 - val_accuracy: 0.6289\n",
      "Epoch 91/100\n",
      "8/8 [==============================] - 21s 3s/step - loss: 0.1260 - accuracy: 0.9519 - val_loss: 3.5903 - val_accuracy: 0.5742\n",
      "Epoch 92/100\n",
      "8/8 [==============================] - 21s 3s/step - loss: 0.1353 - accuracy: 0.9572 - val_loss: 2.1140 - val_accuracy: 0.6680\n",
      "Epoch 93/100\n",
      "8/8 [==============================] - 23s 3s/step - loss: 0.1110 - accuracy: 0.9638 - val_loss: 2.7510 - val_accuracy: 0.6445\n",
      "Epoch 94/100\n",
      "8/8 [==============================] - 23s 3s/step - loss: 0.1732 - accuracy: 0.9318 - val_loss: 2.4165 - val_accuracy: 0.6523\n",
      "Epoch 95/100\n",
      "8/8 [==============================] - 21s 3s/step - loss: 0.1291 - accuracy: 0.9457 - val_loss: 2.2221 - val_accuracy: 0.6680\n",
      "Epoch 96/100\n",
      "8/8 [==============================] - 21s 3s/step - loss: 0.1322 - accuracy: 0.9423 - val_loss: 2.9262 - val_accuracy: 0.6445\n",
      "Epoch 97/100\n",
      "8/8 [==============================] - 21s 3s/step - loss: 0.1021 - accuracy: 0.9621 - val_loss: 2.0836 - val_accuracy: 0.6680\n",
      "Epoch 98/100\n",
      "8/8 [==============================] - 21s 3s/step - loss: 0.1289 - accuracy: 0.9512 - val_loss: 1.8374 - val_accuracy: 0.6797\n",
      "Epoch 99/100\n",
      "8/8 [==============================] - 21s 3s/step - loss: 0.1765 - accuracy: 0.9308 - val_loss: 1.8082 - val_accuracy: 0.6680\n",
      "Epoch 100/100\n",
      "8/8 [==============================] - 21s 3s/step - loss: 0.1297 - accuracy: 0.9522 - val_loss: 2.3850 - val_accuracy: 0.6445\n"
     ]
    }
   ],
   "source": [
    "history = model.fit(\n",
    "      train_generator,\n",
    "      steps_per_epoch=8,  \n",
    "      epochs=100,\n",
    "      verbose=1,\n",
    "      validation_data = validation_generator,\n",
    "      validation_steps=8)"
   ]
  },
  {
   "cell_type": "code",
   "execution_count": 8,
   "metadata": {
    "colab": {
     "base_uri": "https://localhost:8080/",
     "height": 545
    },
    "id": "7zNPRWOVJdOH",
    "outputId": "0c50b386-70c5-43e3-9e22-047b21d4f58b"
   },
   "outputs": [
    {
     "data": {
      "image/png": "[encoded data removed]",
      "text/plain": [
       "<Figure size 432x288 with 1 Axes>"
      ]
     },
     "metadata": {
      "needs_background": "light",
      "tags": []
     },
     "output_type": "display_data"
    },
    {
     "data": {
      "image/png": "[encoded data removed]",
      "text/plain": [
       "<Figure size 432x288 with 1 Axes>"
      ]
     },
     "metadata": {
      "needs_background": "light",
      "tags": []
     },
     "output_type": "display_data"
    }
   ],
   "source": [
    "import matplotlib.pyplot as plt\n",
    "acc = history.history['accuracy']\n",
    "val_acc = history.history['val_accuracy']\n",
    "loss = history.history['loss']\n",
    "val_loss = history.history['val_loss']\n",
    "\n",
    "epochs = range(len(acc))\n",
    "\n",
    "plt.plot(epochs, acc, 'r', label='Training accuracy')\n",
    "plt.plot(epochs, val_acc, 'b', label='Validation accuracy')\n",
    "plt.title('Training and validation accuracy')\n",
    "\n",
    "plt.figure()\n",
    "\n",
    "plt.plot(epochs, loss, 'r', label='Training Loss')\n",
    "plt.plot(epochs, val_loss, 'b', label='Validation Loss')\n",
    "plt.title('Training and validation loss')\n",
    "plt.legend()\n",
    "\n",
    "plt.show()"
   ]
  },
  {
   "cell_type": "code",
   "execution_count": null,
   "metadata": {
    "id": "o3S6Hu21e7Qs"
   },
   "outputs": [],
   "source": []
  }
 ],
 "metadata": {
  "accelerator": "GPU",
  "colab": {
   "collapsed_sections": [],
   "name": "Course 2 - Part 4 - Lesson 4 - Notebook.ipynb",
   "provenance": [],
   "toc_visible": true
  },
  "kernelspec": {
   "display_name": "Python 3",
   "language": "python",
   "name": "python3"
  },
  "language_info": {
   "codemirror_mode": {
    "name": "ipython",
    "version": 3
   },
   "file_extension": ".py",
   "mimetype": "text/x-python",
   "name": "python",
   "nbconvert_exporter": "python",
   "pygments_lexer": "ipython3",
   "version": "3.8.6"
  }
 },
 "nbformat": 4,
 "nbformat_minor": 1
}
